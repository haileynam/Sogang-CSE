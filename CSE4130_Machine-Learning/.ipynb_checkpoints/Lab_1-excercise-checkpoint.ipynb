{
 "cells": [
  {
   "cell_type": "markdown",
   "metadata": {},
   "source": [
    "# 연습문제\n",
    "\n",
    "\n",
    "## numpy\n",
    "\n",
    "python에서 array등을 다루는 수학/과학 컴퓨팅을 하기 위한 패키지\n",
    "\n",
    "## matplotlib\n",
    "\n",
    "python에서 matlab과 유사한 그래프 그리기를 가능하게 하는 패키지"
   ]
  },
  {
   "cell_type": "code",
   "execution_count": 1,
   "metadata": {
    "scrolled": true,
    "tags": []
   },
   "outputs": [
    {
     "name": "stdout",
     "output_type": "stream",
     "text": [
      "Requirement already satisfied: numpy in c:\\users\\user\\appdata\\local\\programs\\python\\python39\\lib\\site-packages (1.20.1)\n",
      "Requirement already satisfied: matplotlib in c:\\users\\user\\appdata\\local\\programs\\python\\python39\\lib\\site-packages (3.3.4)\n",
      "Requirement already satisfied: python-dateutil>=2.1 in c:\\users\\user\\appdata\\local\\programs\\python\\python39\\lib\\site-packages (from matplotlib) (2.8.1)\n",
      "Requirement already satisfied: pyparsing!=2.0.4,!=2.1.2,!=2.1.6,>=2.0.3 in c:\\users\\user\\appdata\\local\\programs\\python\\python39\\lib\\site-packages (from matplotlib) (2.4.7)\n",
      "Requirement already satisfied: pillow>=6.2.0 in c:\\users\\user\\appdata\\local\\programs\\python\\python39\\lib\\site-packages (from matplotlib) (8.1.2)\n",
      "Requirement already satisfied: cycler>=0.10 in c:\\users\\user\\appdata\\local\\programs\\python\\python39\\lib\\site-packages (from matplotlib) (0.10.0)\n",
      "Requirement already satisfied: numpy>=1.15 in c:\\users\\user\\appdata\\local\\programs\\python\\python39\\lib\\site-packages (from matplotlib) (1.20.1)\n",
      "Requirement already satisfied: kiwisolver>=1.0.1 in c:\\users\\user\\appdata\\local\\programs\\python\\python39\\lib\\site-packages (from matplotlib) (1.3.1)\n",
      "Requirement already satisfied: six in c:\\users\\user\\appdata\\local\\programs\\python\\python39\\lib\\site-packages (from cycler>=0.10->matplotlib) (1.15.0)\n"
     ]
    }
   ],
   "source": [
    "# Cell 클릭 후 Shift+Enter로 실행 (Comment는 #으로 시작)\n",
    "\n",
    "# Install necessary packages\n",
    "!pip install numpy\n",
    "!pip install matplotlib"
   ]
  },
  {
   "cell_type": "markdown",
   "metadata": {},
   "source": [
    "## numpy\n",
    "(본 cell은 markdown 형식으로, 더블클릭/Enter로 들어가고 Shift+Enter로 나갈 수 있음. 주석 용으로 사용.)  \n",
    "\n",
    "python에서 수학 컴퓨팅을 하기 위해 사용하는 패키지로 python 라이브러리로 Import 하여 사용. \n",
    "\n",
    "https://numpy.org/doc/stable/user/absolute_beginners.html 참고"
   ]
  },
  {
   "cell_type": "code",
   "execution_count": 2,
   "metadata": {},
   "outputs": [],
   "source": [
    "# 패키지 사용을 위한 약어 지정\n",
    "\n",
    "import numpy as np\n",
    "import matplotlib.pyplot as plt\n",
    "\n",
    "%matplotlib inline"
   ]
  },
  {
   "cell_type": "code",
   "execution_count": 20,
   "metadata": {},
   "outputs": [
    {
     "name": "stdout",
     "output_type": "stream",
     "text": [
      "len(a):  2\n",
      "len(c):  2\n",
      "len(d):  2\n",
      "d[0]:  [5 6 7]\n",
      "len(d[0,:]):  3\n",
      "a:  [1 2] a.shape (2,)\n",
      "b:  [2 3] b.shape (2,)\n",
      "c:  [[4 5]\n",
      " [6 7]] c.shape (2, 2)\n",
      "d:  [[ 5  6  7]\n",
      " [ 8  9 10]] d.shape (2, 3)\n",
      "c[0,0]:  4\n",
      "c[0,1]:  5\n",
      "c[1,0]:  6\n",
      "c[1,1]:  7\n",
      "d[:,0]:  [5 8]\n",
      "d[:,1]:  [6 9]\n",
      "d[:,0:1]:  [[5]\n",
      " [8]]\n",
      "d[:,0:2]:  [[5 6]\n",
      " [8 9]]\n",
      "d[:,1:]:  [[ 6  7]\n",
      " [ 9 10]]\n",
      "d[:,0][:1]:  [5]\n",
      "d[:,0][1:]:  [8]\n",
      "last_a: 2\n",
      "sh_d: \n",
      "  (2, 3) \n",
      "sh_d[0]: 2 \n",
      "sh_d[1]: 3\n",
      "sh_d2: \n",
      "  (6, 1)\n",
      "same\n"
     ]
    }
   ],
   "source": [
    "# a, b, c array 선언 및 초기화\n",
    "\n",
    "a = np.array([1, 2])\n",
    "b = np.array([2, 3])\n",
    "c = np.array([[4, 5], [6, 7]])\n",
    "d = np.array([[5, 6, 7], [8, 9, 10]])  # 2 x 3 array (matrix)\n",
    "\n",
    "print('len(a): ', len(a))  # 첫 번째 차원의 원소 개수 (행의 개수) \n",
    "print('len(c): ', len(c))\n",
    "print('len(d): ', len(d))\n",
    "print('d[0]: ', d[0])\n",
    "print('len(d[0,:]): ', len(d[0,:]))\n",
    "\n",
    "print('a: ', a, 'a.shape', a.shape)\n",
    "print('b: ', b, 'b.shape', b.shape)\n",
    "print('c: ', c, 'c.shape', c.shape)\n",
    "print('d: ', d, 'd.shape', d.shape)\n",
    "print('c[0,0]: ', c[0,0])\n",
    "print('c[0,1]: ', c[0,1])\n",
    "print('c[1,0]: ', c[1,0])\n",
    "print('c[1,1]: ', c[1,1])\n",
    "print('d[:,0]: ', d[:,0])\n",
    "print('d[:,1]: ', d[:,1])\n",
    "print('d[:,0:1]: ', d[:,0:1])  # 0~end-1 까지 출력\n",
    "print('d[:,0:2]: ', d[:,0:2])\n",
    "print('d[:,1:]: ', d[:,1:])\n",
    "print('d[:,0][:1]: ', d[:,0][:1])\n",
    "print('d[:,0][1:]: ', d[:,0][1:])\n",
    "\n",
    "len_a = len(a)\n",
    "last_a = a[len_a-1]\n",
    "print('last_a:', last_a)\n",
    "\n",
    "sh_d = d.shape\n",
    "print(f'sh_d: \\n  {sh_d} \\nsh_d[0]: {sh_d[0]} \\nsh_d[1]: {sh_d[1]}')\n",
    "\n",
    "d2 = d.reshape(6,1)\n",
    "sh_d2 = d2.shape\n",
    "print(f'sh_d2: \\n  {sh_d2}')\n",
    "      \n",
    "sh_a = a.shape\n",
    "sh_b = b.shape\n",
    "if sh_a == sh_b:\n",
    "      print('same')"
   ]
  },
  {
   "cell_type": "code",
   "execution_count": 4,
   "metadata": {},
   "outputs": [
    {
     "data": {
      "text/plain": [
       "array([3, 5])"
      ]
     },
     "execution_count": 4,
     "metadata": {},
     "output_type": "execute_result"
    }
   ],
   "source": [
    "a + b "
   ]
  },
  {
   "cell_type": "code",
   "execution_count": 5,
   "metadata": {},
   "outputs": [
    {
     "data": {
      "text/plain": [
       "array([-1, -1])"
      ]
     },
     "execution_count": 5,
     "metadata": {},
     "output_type": "execute_result"
    }
   ],
   "source": [
    "a - b"
   ]
  },
  {
   "cell_type": "code",
   "execution_count": 6,
   "metadata": {},
   "outputs": [
    {
     "data": {
      "text/plain": [
       "array([2, 6])"
      ]
     },
     "execution_count": 6,
     "metadata": {},
     "output_type": "execute_result"
    }
   ],
   "source": [
    "# element-wise multiplication (요소 별 곱셈)\n",
    "\n",
    "a * b"
   ]
  },
  {
   "cell_type": "code",
   "execution_count": 7,
   "metadata": {},
   "outputs": [
    {
     "data": {
      "text/plain": [
       "8"
      ]
     },
     "execution_count": 7,
     "metadata": {},
     "output_type": "execute_result"
    }
   ],
   "source": [
    "np.dot(a, b)"
   ]
  },
  {
   "cell_type": "code",
   "execution_count": 8,
   "metadata": {},
   "outputs": [
    {
     "data": {
      "text/plain": [
       "8"
      ]
     },
     "execution_count": 8,
     "metadata": {},
     "output_type": "execute_result"
    }
   ],
   "source": [
    "a.dot(b)"
   ]
  },
  {
   "cell_type": "markdown",
   "metadata": {},
   "source": [
    "## matplotlib\n",
    "\n",
    "matplotlib 은 python 에서 matlab 과 유사한 그래프 표시를 가능하게 하는 라이브러리.\n",
    "\n",
    "\n",
    "```np.linspace```\n",
    "\n",
    "균등한 간격의 데이터를 뽑아줌\n",
    "\n",
    "https://numpy.org/doc/stable/reference/generated/numpy.linspace.html\n",
    "\n",
    "\n",
    "```plt.scatter```\n",
    "\n",
    "데이터를 visualizing 해줌\n",
    "\n",
    "https://matplotlib.org/stable/api/_as_gen/matplotlib.pyplot.scatter.html"
   ]
  },
  {
   "cell_type": "code",
   "execution_count": 9,
   "metadata": {},
   "outputs": [
    {
     "data": {
      "text/plain": [
       "<matplotlib.collections.PathCollection at 0x25cdf9a1400>"
      ]
     },
     "execution_count": 9,
     "metadata": {},
     "output_type": "execute_result"
    },
    {
     "data": {
      "image/png": "[encoded data removed]",
      "text/plain": [
       "<Figure size 432x288 with 1 Axes>"
      ]
     },
     "metadata": {
      "needs_background": "light"
     },
     "output_type": "display_data"
    }
   ],
   "source": [
    "x = np.linspace(0, 10, 100)\n",
    "y = np.sin(x)\n",
    "plt.scatter(x, y, color='red')"
   ]
  },
  {
   "cell_type": "code",
   "execution_count": null,
   "metadata": {},
   "outputs": [],
   "source": []
  }
 ],
 "metadata": {
  "kernelspec": {
   "display_name": "Python 3",
   "language": "python",
   "name": "python3"
  },
  "language_info": {
   "codemirror_mode": {
    "name": "ipython",
    "version": 3
   },
   "file_extension": ".py",
   "mimetype": "text/x-python",
   "name": "python",
   "nbconvert_exporter": "python",
   "pygments_lexer": "ipython3",
   "version": "3.6.9"
  }
 },
 "nbformat": 4,
 "nbformat_minor": 5
}
