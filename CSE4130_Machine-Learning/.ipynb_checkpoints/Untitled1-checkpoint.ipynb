{
 "cells": [
  {
   "cell_type": "code",
   "execution_count": 1,
   "metadata": {},
   "outputs": [],
   "source": [
    "import numpy as np\n",
    "import matplotlib.pyplot as plt\n",
    "import numpy.matlib"
   ]
  },
  {
   "cell_type": "code",
   "execution_count": 9,
   "metadata": {},
   "outputs": [],
   "source": [
    "def Perceptron_mis_yx(y = None,x = None,w = None,n_epoch = None,eta = None): \n",
    "    #n_sample = y.shape[1-1] / 2\n",
    "    x_c1 = x[1:n_sample, :]\n",
    "    x_c2 = x[n_sample+1:n_sample * 2,:]\n",
    "    yx = np.matlib.repmat(y,1,3)*x\n",
    "    print('----- Perceptron_mis_yx() started -----\\n' % ())\n",
    "    for e in np.arange(1,n_epoch+1).reshape(-1):\n",
    "        #     for i=1:n_sample*2\n",
    "        #wyx = np.dot(np.matlib.repmat((w,n_sample * 2),1),yx,2)\n",
    "        wyx = np.multiply(np.matlib.repmat(w, n_sample*2, 1), yx).sum(axis=1)\n",
    "        #     idx = find(wx2 < 0);\n",
    "        yx_misclassified = yx[wyx < 0,:]\n",
    "        w = w + sum(yx_misclassified)\n",
    "        #         w = w + eta*(sum(yx_misclassified)-2*0.001*w);\n",
    "        err = sum(wyx < 0)\n",
    "        print('err = %d\\n' % (err))\n",
    "        plt.figure(2)\n",
    "        plt.xlim(np.array([- 5,10]))\n",
    "        plt.ylim(np.array([- 5,10]))\n",
    "        plt.axis('equal')\n",
    "\n",
    "        drawDataHyperplane(x_c1,x_c2,w,'k')\n",
    "\n",
    "        if err == 0:\n",
    "            break\n",
    "    \n",
    "    ret1 = e"
   ]
  },
  {
   "cell_type": "code",
   "execution_count": 10,
   "metadata": {},
   "outputs": [],
   "source": [
    "def Perceptron_l2(y = None,x = None,w = None,n_epoch = None,eta = None): \n",
    "    #n_sample = y.shape[1-1] / 2\n",
    "    x_c1 = x[np.arange(1,n_sample+1),:]\n",
    "    x_c2 = x[np.arange(n_sample + 1,n_sample * 2+1),:]\n",
    "    print('----- Perceptron_l2() started -----\\n' % ())\n",
    "    for e in np.arange(1,n_epoch+1).reshape(-1):\n",
    "        #     for i=1:n_sample*2\n",
    "        wx = np.dot(np.matlib.repmat(w,n_sample * 2,1),x,2)\n",
    "        diff = np.multiply(np.matlib.repmat((y - wx),1,3),x)\n",
    "        w = w + eta * sum(diff)\n",
    "        #     w = w/max(abs(w));\n",
    "        err1 = 1 / 2 * sum((y - wx) ** 2)\n",
    "        err2 = sum(np.multiply(y,wx) < 0)\n",
    "        print('err(%d) = %f %d\\n' % (e,err1,err2))\n",
    "        plt.figure(3)\n",
    "        plt.xlim(np.array([- 5,10]))\n",
    "        plt.ylim(np.array([- 5,10]))\n",
    "        plt.axis('equal')\n",
    "       \n",
    "        drawDataHyperplane(x_c1,x_c2,w,'k')\n",
    "       \n",
    "        if err2 == 0:\n",
    "            break\n",
    "    \n",
    "    ret2 = e"
   ]
  },
  {
   "cell_type": "code",
   "execution_count": 16,
   "metadata": {},
   "outputs": [],
   "source": [
    "def Perceptron_l2_reg(y = None,x = None,w = None,n_epoch = None,eta = None,lamda = None): \n",
    "    n_sample = y.shape[1-1] / 2\n",
    "    x_c1 = x[np.arange(1,n_sample+1),:]\n",
    "    x_c2 = x[np.arange(n_sample + 1,n_sample * 2+1),:]\n",
    "    print('----- Perceptron_l2_reg() started -----\\n' % ())\n",
    "    for e in np.arange(1,n_epoch+1).reshape(-1):\n",
    "        #wx = np.dot(np.matlib.repmat(w,n_sample * 2,1),x,2)\n",
    "        wx = sum((np.tile(w, (n_sample*2, 1)))*x)\n",
    "        diff = np.multiply(np.matlib.repmat((y - wx),1,3),x)\n",
    "        w = w + eta * (sum(diff) - 2 * lamda * w * n_sample * 2)\n",
    "        err1 = 1 / 2 * sum((y - wx) ** 2)\n",
    "        err2 = sum(np.multiply(y,wx) < 0)\n",
    "        print('err(%d) = %f %d\\n' % (e,err1,err2))\n",
    "        plt.figure(4)\n",
    "        plt.xlim(np.array([- 5,10]))\n",
    "        plt.ylim(np.array([- 5,10]))\n",
    "        plt.axis('equal')\n",
    "        hold('on')\n",
    "        drawDataHyperplane(x_c1,x_c2,w,'k')\n",
    "        hold('off')\n",
    "        if err2 == 0:\n",
    "            break\n",
    "    \n",
    "    ret3 = e"
   ]
  },
  {
   "cell_type": "code",
   "execution_count": 17,
   "metadata": {},
   "outputs": [],
   "source": [
    "def drawData(x_c1 = None,x_c2 = None): \n",
    "    plt.plot(x_c1[:,1],x_c1[:,2],'+b')\n",
    "    plt.plot(x_c2[:,1],x_c2[:,2],'or')"
   ]
  },
  {
   "cell_type": "code",
   "execution_count": 18,
   "metadata": {},
   "outputs": [],
   "source": [
    "def drawLine(w = None,col = None): \n",
    "    x = np.arange(- 5,10+0.1,0.1)\n",
    "    y = - w[:,0] / w[:,2] - w[:,1] / w[:,2] * x\n",
    "    plt.plot(x,y,col)"
   ]
  },
  {
   "cell_type": "code",
   "execution_count": 19,
   "metadata": {},
   "outputs": [],
   "source": [
    "def drawDataHyperplane(x_c1 = None,x_c2 = None,w = None,col = None): \n",
    "    \n",
    "    drawData(x_c1,x_c2)\n",
    "    drawLine(w,col)\n"
   ]
  },
  {
   "cell_type": "code",
   "execution_count": 20,
   "metadata": {},
   "outputs": [
    {
     "ename": "ValueError",
     "evalue": "too many values to unpack (expected 2)",
     "output_type": "error",
     "traceback": [
      "\u001b[0;31m---------------------------------------------------------------------------\u001b[0m",
      "\u001b[0;31mValueError\u001b[0m                                Traceback (most recent call last)",
      "\u001b[0;32m<ipython-input-20-ee163eb2acc5>\u001b[0m in \u001b[0;36m<module>\u001b[0;34m()\u001b[0m\n\u001b[1;32m     33\u001b[0m \u001b[0mn_epoch\u001b[0m \u001b[0;34m=\u001b[0m \u001b[0;36m100\u001b[0m\u001b[0;34m\u001b[0m\u001b[0;34m\u001b[0m\u001b[0m\n\u001b[1;32m     34\u001b[0m \u001b[0meta\u001b[0m \u001b[0;34m=\u001b[0m \u001b[0;36m0.001\u001b[0m\u001b[0;34m\u001b[0m\u001b[0;34m\u001b[0m\u001b[0m\n\u001b[0;32m---> 35\u001b[0;31m \u001b[0mret1\u001b[0m \u001b[0;34m=\u001b[0m \u001b[0mPerceptron_mis_yx\u001b[0m\u001b[0;34m(\u001b[0m\u001b[0my\u001b[0m\u001b[0;34m,\u001b[0m\u001b[0mx\u001b[0m\u001b[0;34m,\u001b[0m\u001b[0mw\u001b[0m\u001b[0;34m,\u001b[0m\u001b[0mn_epoch\u001b[0m\u001b[0;34m,\u001b[0m\u001b[0meta\u001b[0m\u001b[0;34m)\u001b[0m\u001b[0;34m\u001b[0m\u001b[0;34m\u001b[0m\u001b[0m\n\u001b[0m\u001b[1;32m     36\u001b[0m     \u001b[0;31m# w <- w+sum(squared error), Fig(3)\u001b[0m\u001b[0;34m\u001b[0m\u001b[0;34m\u001b[0m\u001b[0;34m\u001b[0m\u001b[0m\n\u001b[1;32m     37\u001b[0m \u001b[0mn_epoch\u001b[0m \u001b[0;34m=\u001b[0m \u001b[0;36m100\u001b[0m\u001b[0;34m\u001b[0m\u001b[0;34m\u001b[0m\u001b[0m\n",
      "\u001b[0;32m<ipython-input-9-53cfda8d9675>\u001b[0m in \u001b[0;36mPerceptron_mis_yx\u001b[0;34m(y, x, w, n_epoch, eta)\u001b[0m\n\u001b[1;32m      3\u001b[0m     \u001b[0mx_c1\u001b[0m \u001b[0;34m=\u001b[0m \u001b[0mx\u001b[0m\u001b[0;34m[\u001b[0m\u001b[0;36m1\u001b[0m\u001b[0;34m:\u001b[0m\u001b[0mn_sample\u001b[0m\u001b[0;34m,\u001b[0m \u001b[0;34m:\u001b[0m\u001b[0;34m]\u001b[0m\u001b[0;34m\u001b[0m\u001b[0;34m\u001b[0m\u001b[0m\n\u001b[1;32m      4\u001b[0m     \u001b[0mx_c2\u001b[0m \u001b[0;34m=\u001b[0m \u001b[0mx\u001b[0m\u001b[0;34m[\u001b[0m\u001b[0mn_sample\u001b[0m\u001b[0;34m+\u001b[0m\u001b[0;36m1\u001b[0m\u001b[0;34m:\u001b[0m\u001b[0mn_sample\u001b[0m \u001b[0;34m*\u001b[0m \u001b[0;36m2\u001b[0m\u001b[0;34m,\u001b[0m\u001b[0;34m:\u001b[0m\u001b[0;34m]\u001b[0m\u001b[0;34m\u001b[0m\u001b[0;34m\u001b[0m\u001b[0m\n\u001b[0;32m----> 5\u001b[0;31m     \u001b[0myx\u001b[0m \u001b[0;34m=\u001b[0m \u001b[0mnp\u001b[0m\u001b[0;34m.\u001b[0m\u001b[0mmatlib\u001b[0m\u001b[0;34m.\u001b[0m\u001b[0mrepmat\u001b[0m\u001b[0;34m(\u001b[0m\u001b[0my\u001b[0m\u001b[0;34m,\u001b[0m\u001b[0;36m1\u001b[0m\u001b[0;34m,\u001b[0m\u001b[0;36m3\u001b[0m\u001b[0;34m)\u001b[0m\u001b[0;34m*\u001b[0m\u001b[0mx\u001b[0m\u001b[0;34m\u001b[0m\u001b[0;34m\u001b[0m\u001b[0m\n\u001b[0m\u001b[1;32m      6\u001b[0m     \u001b[0mprint\u001b[0m\u001b[0;34m(\u001b[0m\u001b[0;34m'----- Perceptron_mis_yx() started -----\\n'\u001b[0m \u001b[0;34m%\u001b[0m \u001b[0;34m(\u001b[0m\u001b[0;34m)\u001b[0m\u001b[0;34m)\u001b[0m\u001b[0;34m\u001b[0m\u001b[0;34m\u001b[0m\u001b[0m\n\u001b[1;32m      7\u001b[0m     \u001b[0;32mfor\u001b[0m \u001b[0me\u001b[0m \u001b[0;32min\u001b[0m \u001b[0mnp\u001b[0m\u001b[0;34m.\u001b[0m\u001b[0marange\u001b[0m\u001b[0;34m(\u001b[0m\u001b[0;36m1\u001b[0m\u001b[0;34m,\u001b[0m\u001b[0mn_epoch\u001b[0m\u001b[0;34m+\u001b[0m\u001b[0;36m1\u001b[0m\u001b[0;34m)\u001b[0m\u001b[0;34m.\u001b[0m\u001b[0mreshape\u001b[0m\u001b[0;34m(\u001b[0m\u001b[0;34m-\u001b[0m\u001b[0;36m1\u001b[0m\u001b[0;34m)\u001b[0m\u001b[0;34m:\u001b[0m\u001b[0;34m\u001b[0m\u001b[0;34m\u001b[0m\u001b[0m\n",
      "\u001b[0;32m/usr/local/lib/python3.6/dist-packages/numpy/matlib.py\u001b[0m in \u001b[0;36mrepmat\u001b[0;34m(a, m, n)\u001b[0m\n\u001b[1;32m    370\u001b[0m         \u001b[0morigrows\u001b[0m\u001b[0;34m,\u001b[0m \u001b[0morigcols\u001b[0m \u001b[0;34m=\u001b[0m \u001b[0;34m(\u001b[0m\u001b[0;36m1\u001b[0m\u001b[0;34m,\u001b[0m \u001b[0ma\u001b[0m\u001b[0;34m.\u001b[0m\u001b[0mshape\u001b[0m\u001b[0;34m[\u001b[0m\u001b[0;36m0\u001b[0m\u001b[0;34m]\u001b[0m\u001b[0;34m)\u001b[0m\u001b[0;34m\u001b[0m\u001b[0;34m\u001b[0m\u001b[0m\n\u001b[1;32m    371\u001b[0m     \u001b[0;32melse\u001b[0m\u001b[0;34m:\u001b[0m\u001b[0;34m\u001b[0m\u001b[0;34m\u001b[0m\u001b[0m\n\u001b[0;32m--> 372\u001b[0;31m         \u001b[0morigrows\u001b[0m\u001b[0;34m,\u001b[0m \u001b[0morigcols\u001b[0m \u001b[0;34m=\u001b[0m \u001b[0ma\u001b[0m\u001b[0;34m.\u001b[0m\u001b[0mshape\u001b[0m\u001b[0;34m\u001b[0m\u001b[0;34m\u001b[0m\u001b[0m\n\u001b[0m\u001b[1;32m    373\u001b[0m     \u001b[0mrows\u001b[0m \u001b[0;34m=\u001b[0m \u001b[0morigrows\u001b[0m \u001b[0;34m*\u001b[0m \u001b[0mm\u001b[0m\u001b[0;34m\u001b[0m\u001b[0;34m\u001b[0m\u001b[0m\n\u001b[1;32m    374\u001b[0m     \u001b[0mcols\u001b[0m \u001b[0;34m=\u001b[0m \u001b[0morigcols\u001b[0m \u001b[0;34m*\u001b[0m \u001b[0mn\u001b[0m\u001b[0;34m\u001b[0m\u001b[0;34m\u001b[0m\u001b[0m\n",
      "\u001b[0;31mValueError\u001b[0m: too many values to unpack (expected 2)"
     ]
    },
    {
     "data": {
      "image/png": "[encoded data removed]",
      "text/plain": [
       "<Figure size 432x288 with 1 Axes>"
      ]
     },
     "metadata": {},
     "output_type": "display_data"
    }
   ],
   "source": [
    "n_sample = 20\n",
    "    # x_c1 = mvnrnd([0, 0], [1, .95; .95, 1.], n_sample);\n",
    "# x_c2 = mvnrnd([1, 5], [1, .85; .85, 1.], n_sample);\n",
    "# dlmwrite('x_c1', x_c1);\n",
    "# dlmwrite('x_c2', x_c2);\n",
    "x_c1 = np.loadtxt(\"x_c1.txt\", delimiter = \",\")\n",
    "x_c2 = np.loadtxt(\"x_c2.txt\", delimiter = \",\")\n",
    "    # add bias term\n",
    "x_c1 = np.append(np.ones((n_sample,1)), x_c1, axis= 1)\n",
    "x_c2 = np.append(np.ones((n_sample,1)), x_c2, axis = 1)\n",
    "    # label\n",
    "y1 = np.ones((n_sample,1)) *(-1) \n",
    "    \n",
    "y2 = np.ones((n_sample,1))\n",
    "    \n",
    "    # figure(1); xlim([-5 10]); ylim([-5 10])\n",
    "# hold on\n",
    "# plot(x_c1(:,2), x_c1(:,3), 'or');\n",
    "# plot(x_c2(:,2), x_c2(:,3), '+b');\n",
    "# hold off\n",
    "    \n",
    "x = np.array([[x_c1],[x_c2]])\n",
    "y = np.array([[y1],[y2]])\n",
    "    # yx = repmat(y,1,3).*x; # yx\n",
    "    \n",
    "w = np.random.rand(1,3)\n",
    "plt.figure(1)\n",
    "plt.xlim(np.array([- 5,10]))\n",
    "plt.ylim(np.array([- 5,10]))\n",
    "plt.axis('equal')\n",
    "drawDataHyperplane(x_c1,x_c2,w,'k')\n",
    "    # w <- w+sum(misclassified yx), Fig(2)\n",
    "n_epoch = 100\n",
    "eta = 0.001\n",
    "ret1 = Perceptron_mis_yx(y,x,w,n_epoch,eta)\n",
    "    # w <- w+sum(squared error), Fig(3)\n",
    "n_epoch = 100\n",
    "eta = 0.001\n",
    "ret2 = Perceptron_l2(y,x,w,n_epoch,eta)\n",
    "\n",
    "print('ret1 = %d, ret2 = %d, ret3 = %d \\n' % (ret1,ret2,ret3))"
   ]
  },
  {
   "cell_type": "code",
   "execution_count": null,
   "metadata": {},
   "outputs": [],
   "source": []
  },
  {
   "cell_type": "code",
   "execution_count": null,
   "metadata": {},
   "outputs": [],
   "source": []
  },
  {
   "cell_type": "code",
   "execution_count": null,
   "metadata": {},
   "outputs": [],
   "source": []
  },
  {
   "cell_type": "code",
   "execution_count": null,
   "metadata": {},
   "outputs": [],
   "source": []
  },
  {
   "cell_type": "code",
   "execution_count": null,
   "metadata": {},
   "outputs": [],
   "source": []
  }
 ],
 "metadata": {
  "kernelspec": {
   "display_name": "Python 3",
   "language": "python",
   "name": "python3"
  },
  "language_info": {
   "codemirror_mode": {
    "name": "ipython",
    "version": 3
   },
   "file_extension": ".py",
   "mimetype": "text/x-python",
   "name": "python",
   "nbconvert_exporter": "python",
   "pygments_lexer": "ipython3",
   "version": "3.6.9"
  }
 },
 "nbformat": 4,
 "nbformat_minor": 2
}
